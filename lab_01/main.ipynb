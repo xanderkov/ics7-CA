{
 "cells": [
  {
   "cell_type": "code",
   "execution_count": 31,
   "metadata": {},
   "outputs": [],
   "source": [
    "import scipy\n",
    "import matplotlib\n",
    "import matplotlib.pyplot as plt\n",
    "\n",
    "import pandas as pd \n",
    "import seaborn\n",
    "import numpy as np"
   ]
  },
  {
   "cell_type": "code",
   "execution_count": 32,
   "metadata": {},
   "outputs": [
    {
     "data": {
      "text/html": [
       "<div>\n",
       "<style scoped>\n",
       "    .dataframe tbody tr th:only-of-type {\n",
       "        vertical-align: middle;\n",
       "    }\n",
       "\n",
       "    .dataframe tbody tr th {\n",
       "        vertical-align: top;\n",
       "    }\n",
       "\n",
       "    .dataframe thead th {\n",
       "        text-align: right;\n",
       "    }\n",
       "</style>\n",
       "<table border=\"1\" class=\"dataframe\">\n",
       "  <thead>\n",
       "    <tr style=\"text-align: right;\">\n",
       "      <th></th>\n",
       "      <th>x</th>\n",
       "      <th>y</th>\n",
       "      <th>y'</th>\n",
       "    </tr>\n",
       "  </thead>\n",
       "  <tbody>\n",
       "    <tr>\n",
       "      <th>0</th>\n",
       "      <td>0.00</td>\n",
       "      <td>1.000000</td>\n",
       "      <td>-1.00000</td>\n",
       "    </tr>\n",
       "    <tr>\n",
       "      <th>1</th>\n",
       "      <td>0.15</td>\n",
       "      <td>0.838771</td>\n",
       "      <td>-1.14944</td>\n",
       "    </tr>\n",
       "    <tr>\n",
       "      <th>2</th>\n",
       "      <td>0.30</td>\n",
       "      <td>0.655336</td>\n",
       "      <td>-1.29552</td>\n",
       "    </tr>\n",
       "    <tr>\n",
       "      <th>3</th>\n",
       "      <td>0.45</td>\n",
       "      <td>0.450447</td>\n",
       "      <td>-1.43497</td>\n",
       "    </tr>\n",
       "    <tr>\n",
       "      <th>4</th>\n",
       "      <td>0.60</td>\n",
       "      <td>0.225336</td>\n",
       "      <td>-1.56464</td>\n",
       "    </tr>\n",
       "  </tbody>\n",
       "</table>\n",
       "</div>"
      ],
      "text/plain": [
       "      x         y       y'\n",
       "0  0.00  1.000000 -1.00000\n",
       "1  0.15  0.838771 -1.14944\n",
       "2  0.30  0.655336 -1.29552\n",
       "3  0.45  0.450447 -1.43497\n",
       "4  0.60  0.225336 -1.56464"
      ]
     },
     "execution_count": 32,
     "metadata": {},
     "output_type": "execute_result"
    }
   ],
   "source": [
    "data = pd.read_csv(\"in.csv\")\n",
    "data.head()"
   ]
  },
  {
   "cell_type": "code",
   "execution_count": 33,
   "metadata": {},
   "outputs": [
    {
     "name": "stdout",
     "output_type": "stream",
     "text": [
      "[0.   0.15 0.3  0.45 0.6  0.75 0.9  1.05] [ 1.        0.838771  0.655336  0.450447  0.225336 -0.01831  -0.27839\n",
      " -0.55243 ] [-1.      -1.14944 -1.29552 -1.43497 -1.56464 -1.68164 -1.78333 -1.86742]\n"
     ]
    }
   ],
   "source": [
    "x = data['x'].values\n",
    "y = data['y'].values\n",
    "yDer = data[\"y'\"].values\n",
    "print(x, y, yDer)"
   ]
  },
  {
   "cell_type": "code",
   "execution_count": 34,
   "metadata": {},
   "outputs": [],
   "source": [
    "xMean = 0.525"
   ]
  },
  {
   "cell_type": "code",
   "execution_count": 56,
   "metadata": {},
   "outputs": [],
   "source": [
    "def getDivededDiff(x, y, n):\n",
    "    coef = np.zeros([n, n])\n",
    "    coef[:,0] = y\n",
    "    for j in range(1, n):\n",
    "        for i in range(n - j):\n",
    "            coef[i][j] = (coef[i + 1][j - 1] - coef[i][j - 1]) / (x[i + j] - x[i])\n",
    "    return coef"
   ]
  },
  {
   "cell_type": "code",
   "execution_count": 57,
   "metadata": {},
   "outputs": [],
   "source": [
    "def getNewtonPoly(coef, x, xMean, n):\n",
    "    yx = coef[0]\n",
    "    p = xMean - x[0]\n",
    "    for i in range(1, n):\n",
    "        yx += coef[i] * p\n",
    "        p *= xMean - x[i]\n",
    "    return yx\n"
   ]
  },
  {
   "cell_type": "code",
   "execution_count": 58,
   "metadata": {},
   "outputs": [],
   "source": [
    "def getSortedArr(arr, n):\n",
    "    newArr = np.zeros(n)\n",
    "    k = -1\n",
    "    for i in range(n):\n",
    "        newArr[i] = arr[4 + i * k]\n",
    "        k *= -1\n",
    "    return newArr"
   ]
  },
  {
   "cell_type": "code",
   "execution_count": 66,
   "metadata": {},
   "outputs": [
    {
     "name": "stdout",
     "output_type": "stream",
     "text": [
      "0.33789149999999996\n"
     ]
    }
   ],
   "source": [
    "n = 2\n",
    "xCopy = x[3], x[4]\n",
    "yCopy = y[3], y[4]\n",
    "coef = getDivededDiff(xCopy, yCopy, n)[0, :]\n",
    "yData = getNewtonPoly(coef, xCopy, xMean, n)\n",
    "yNewton = np.zeros(5)\n",
    "print(yData)\n",
    "yNewton[0] = yData"
   ]
  },
  {
   "cell_type": "code",
   "execution_count": 67,
   "metadata": {},
   "outputs": [
    {
     "name": "stdout",
     "output_type": "stream",
     "text": [
      "0.34020837499999995\n"
     ]
    }
   ],
   "source": [
    "n = 3\n",
    "xCopy = x[3], x[4], x[5]\n",
    "yCopy = y[3], y[4], y[5]\n",
    "coef = getDivededDiff(xCopy, yCopy, n)[0, :]\n",
    "yData = getNewtonPoly(coef, xCopy, xMean, n)\n",
    "print(yData)\n",
    "yNewton[1] = yData"
   ]
  },
  {
   "cell_type": "code",
   "execution_count": 68,
   "metadata": {},
   "outputs": [
    {
     "name": "stdout",
     "output_type": "stream",
     "text": [
      "0.3403138125\n"
     ]
    }
   ],
   "source": [
    "n = 4\n",
    "xCopy = x[2], x[3], x[4], x[5]\n",
    "yCopy = y[2], y[3], y[4], y[5]\n",
    "coef = getDivededDiff(xCopy, yCopy, n)[0, :]\n",
    "yData = getNewtonPoly(coef, xCopy, xMean, n)\n",
    "print(yData)\n",
    "yNewton[2] = yData"
   ]
  },
  {
   "cell_type": "code",
   "execution_count": 69,
   "metadata": {},
   "outputs": [
    {
     "name": "stdout",
     "output_type": "stream",
     "text": [
      "0.34032351562499996\n"
     ]
    }
   ],
   "source": [
    "n = 5\n",
    "xCopy = x[2], x[3], x[4], x[5], x[6]\n",
    "yCopy = y[2], y[3], y[4], y[5], y[6]\n",
    "coef = getDivededDiff(xCopy, yCopy, n)[0, :]\n",
    "yData = getNewtonPoly(coef, xCopy, xMean, n)\n",
    "print(yData)\n",
    "yNewton[3] = yData"
   ]
  },
  {
   "cell_type": "code",
   "execution_count": 71,
   "metadata": {},
   "outputs": [
    {
     "name": "stdout",
     "output_type": "stream",
     "text": [
      "0.34032399609375\n"
     ]
    }
   ],
   "source": [
    "n = 6\n",
    "xCopy = x[1], x[2], x[3], x[4], x[5], x[6]\n",
    "yCopy = y[1], y[2], y[3], y[4], y[5], y[6]\n",
    "coef = getDivededDiff(xCopy, yCopy, n)[0, :]\n",
    "yData = getNewtonPoly(coef, xCopy, xMean, n)\n",
    "print(yData)\n",
    "yNewton[4] = yData"
   ]
  },
  {
   "cell_type": "code",
   "execution_count": 82,
   "metadata": {},
   "outputs": [
    {
     "data": {
      "text/plain": [
       "[<matplotlib.lines.Line2D at 0x23e92afc850>]"
      ]
     },
     "execution_count": 82,
     "metadata": {},
     "output_type": "execute_result"
    },
    {
     "data": {
      "image/png": "[encoded data removed]",
      "text/plain": [
       "<Figure size 432x288 with 1 Axes>"
      ]
     },
     "metadata": {
      "needs_background": "light"
     },
     "output_type": "display_data"
    }
   ],
   "source": [
    "n = 8\n",
    "xGraph = np.arange(x[0], x[7], 0.01)\n",
    "yGraph = np.zeros(xGraph.size)\n",
    "for i in range(xGraph.size):\n",
    "    coef = getDivededDiff(x, y, n)[0, :]\n",
    "    yGraph[i] = getNewtonPoly(coef, x, xGraph[i], n)\n",
    "plt.plot(xGraph, yGraph)\n",
    "plt.plot(x, y, 'bo')"
   ]
  },
  {
   "cell_type": "code",
   "execution_count": 83,
   "metadata": {},
   "outputs": [],
   "source": [
    "def dl(i, xi):\n",
    "\tresult = 0.0\n",
    "\tfor j in range(0,len(xi)):\n",
    "\t\tif j!=i:\n",
    "\t\t\tresult += 1/(xi[i]-xi[j])\n",
    "\tresult *= 2\n",
    "\treturn result"
   ]
  },
  {
   "cell_type": "code",
   "execution_count": 85,
   "metadata": {},
   "outputs": [],
   "source": [
    "def l(i, xi, x):\n",
    "    deno = 1.0\n",
    "    nu = 1.0\n",
    "\n",
    "    for j in range(0, len(xi)):\n",
    "        if j!= i:\n",
    "            deno *= (xi[i]-xi[j])\n",
    "            nu *= (x-xi[j])\n",
    "\n",
    "    return nu/deno\n"
   ]
  },
  {
   "cell_type": "code",
   "execution_count": 88,
   "metadata": {},
   "outputs": [],
   "source": [
    "def get_Hermite(xi, yi, dyi):\n",
    "    def he(x):\n",
    "        result = 0.0\n",
    "        for i in range(0, len(xi)):\n",
    "            result += (yi[i]+(x-xi[i])*(dyi[i]-2*yi[i]*dl(i, xi))) * ((l(i,xi,x))**2)\n",
    "        return result\n",
    "    return he"
   ]
  },
  {
   "cell_type": "code",
   "execution_count": null,
   "metadata": {},
   "outputs": [],
   "source": []
  }
 ],
 "metadata": {
  "interpreter": {
   "hash": "5a100df00556609cf56f31f321bb2627ec61d5dc2da090d983a892c72220caf5"
  },
  "kernelspec": {
   "display_name": "Python 3.8.8 ('base')",
   "language": "python",
   "name": "python3"
  },
  "language_info": {
   "codemirror_mode": {
    "name": "ipython",
    "version": 3
   },
   "file_extension": ".py",
   "mimetype": "text/x-python",
   "name": "python",
   "nbconvert_exporter": "python",
   "pygments_lexer": "ipython3",
   "version": "3.8.8"
  },
  "orig_nbformat": 4
 },
 "nbformat": 4,
 "nbformat_minor": 2
}
