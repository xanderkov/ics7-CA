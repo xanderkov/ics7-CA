{
 "cells": [
  {
   "cell_type": "code",
   "execution_count": 72,
   "metadata": {},
   "outputs": [],
   "source": [
    "import scipy\n",
    "import matplotlib\n",
    "import matplotlib.pyplot as plt\n",
    "\n",
    "import pandas as pd \n",
    "import seaborn\n",
    "import numpy as np"
   ]
  },
  {
   "cell_type": "code",
   "execution_count": 73,
   "metadata": {},
   "outputs": [
    {
     "data": {
      "text/html": [
       "<div>\n",
       "<style scoped>\n",
       "    .dataframe tbody tr th:only-of-type {\n",
       "        vertical-align: middle;\n",
       "    }\n",
       "\n",
       "    .dataframe tbody tr th {\n",
       "        vertical-align: top;\n",
       "    }\n",
       "\n",
       "    .dataframe thead th {\n",
       "        text-align: right;\n",
       "    }\n",
       "</style>\n",
       "<table border=\"1\" class=\"dataframe\">\n",
       "  <thead>\n",
       "    <tr style=\"text-align: right;\">\n",
       "      <th></th>\n",
       "      <th>x</th>\n",
       "      <th>y</th>\n",
       "      <th>y'</th>\n",
       "    </tr>\n",
       "  </thead>\n",
       "  <tbody>\n",
       "    <tr>\n",
       "      <th>0</th>\n",
       "      <td>0.00</td>\n",
       "      <td>1.000000</td>\n",
       "      <td>-1.00000</td>\n",
       "    </tr>\n",
       "    <tr>\n",
       "      <th>1</th>\n",
       "      <td>0.15</td>\n",
       "      <td>0.838771</td>\n",
       "      <td>-1.14944</td>\n",
       "    </tr>\n",
       "    <tr>\n",
       "      <th>2</th>\n",
       "      <td>0.30</td>\n",
       "      <td>0.655336</td>\n",
       "      <td>-1.29552</td>\n",
       "    </tr>\n",
       "    <tr>\n",
       "      <th>3</th>\n",
       "      <td>0.45</td>\n",
       "      <td>0.450447</td>\n",
       "      <td>-1.43497</td>\n",
       "    </tr>\n",
       "    <tr>\n",
       "      <th>4</th>\n",
       "      <td>0.60</td>\n",
       "      <td>0.225336</td>\n",
       "      <td>-1.56464</td>\n",
       "    </tr>\n",
       "    <tr>\n",
       "      <th>5</th>\n",
       "      <td>0.75</td>\n",
       "      <td>-0.018310</td>\n",
       "      <td>-1.68164</td>\n",
       "    </tr>\n",
       "    <tr>\n",
       "      <th>6</th>\n",
       "      <td>0.90</td>\n",
       "      <td>-0.278390</td>\n",
       "      <td>-1.78333</td>\n",
       "    </tr>\n",
       "    <tr>\n",
       "      <th>7</th>\n",
       "      <td>1.05</td>\n",
       "      <td>-0.552430</td>\n",
       "      <td>-1.86742</td>\n",
       "    </tr>\n",
       "  </tbody>\n",
       "</table>\n",
       "</div>"
      ],
      "text/plain": [
       "      x         y       y'\n",
       "0  0.00  1.000000 -1.00000\n",
       "1  0.15  0.838771 -1.14944\n",
       "2  0.30  0.655336 -1.29552\n",
       "3  0.45  0.450447 -1.43497\n",
       "4  0.60  0.225336 -1.56464\n",
       "5  0.75 -0.018310 -1.68164\n",
       "6  0.90 -0.278390 -1.78333\n",
       "7  1.05 -0.552430 -1.86742"
      ]
     },
     "execution_count": 73,
     "metadata": {},
     "output_type": "execute_result"
    }
   ],
   "source": [
    "data = pd.read_csv(\"in.csv\")\n",
    "data.head(data.size)"
   ]
  },
  {
   "cell_type": "code",
   "execution_count": 74,
   "metadata": {},
   "outputs": [
    {
     "name": "stdout",
     "output_type": "stream",
     "text": [
      "[0.   0.15 0.3  0.45 0.6  0.75 0.9  1.05] \n",
      " [ 1.        0.838771  0.655336  0.450447  0.225336 -0.01831  -0.27839\n",
      " -0.55243 ] \n",
      " [-1.      -1.14944 -1.29552 -1.43497 -1.56464 -1.68164 -1.78333 -1.86742]\n"
     ]
    }
   ],
   "source": [
    "x = data['x'].values\n",
    "y = data['y'].values\n",
    "yDer = data[\"y'\"].values\n",
    "print(x,'\\n', y,'\\n', yDer)"
   ]
  },
  {
   "cell_type": "code",
   "execution_count": 75,
   "metadata": {},
   "outputs": [
    {
     "name": "stdout",
     "output_type": "stream",
     "text": [
      "0.525\n"
     ]
    }
   ],
   "source": [
    "with open('in.txt') as f:\n",
    "    xMean = float(f.readline())\n",
    "print(xMean)"
   ]
  },
  {
   "cell_type": "code",
   "execution_count": 76,
   "metadata": {},
   "outputs": [],
   "source": [
    "def getNearCoef(arr, xMean):\n",
    "    for i in range(len(arr)):\n",
    "        if arr[i] > xMean:\n",
    "            return i\n",
    "\n",
    "def getFirstColumnTable(arr, n, coef):\n",
    "    if n % 2 == 0:\n",
    "        arr = arr[coef - n // 2: coef + n // 2]\n",
    "    elif n % 2 == 1:\n",
    "        arr = arr[coef - n // 2: coef + n // 2 + 1]\n",
    "    return arr"
   ]
  },
  {
   "cell_type": "code",
   "execution_count": 77,
   "metadata": {},
   "outputs": [
    {
     "name": "stdout",
     "output_type": "stream",
     "text": [
      "[0.45 0.6 ]\n"
     ]
    }
   ],
   "source": [
    "coef = getNearCoef(x, xMean)\n",
    "xCopy = getFirstColumnTable(x, 2, coef)\n",
    "print(xCopy)"
   ]
  },
  {
   "cell_type": "code",
   "execution_count": 78,
   "metadata": {},
   "outputs": [],
   "source": [
    "def getDivededDiff(x, y, n):\n",
    "    table = np.zeros([n, n])\n",
    "    table[:,0] = y\n",
    "    for j in range(1, n):\n",
    "        for i in range(n - j):\n",
    "            table[i][j] = (table[i + 1][j - 1] - table[i][j - 1]) / (x[i + j] - x[i])\n",
    "    return table\n",
    "\n",
    "def getNewtonPoly(table, x, xMean, n):\n",
    "    yx = table[0]\n",
    "    p = xMean - x[0]\n",
    "    for i in range(1, n):\n",
    "        yx += table[i] * p\n",
    "        p *= xMean - x[i]\n",
    "    return yx\n"
   ]
  },
  {
   "cell_type": "code",
   "execution_count": 79,
   "metadata": {},
   "outputs": [],
   "source": [
    "results = np.zeros((5, 2))\n",
    "coef = getNearCoef(x, xMean)\n",
    "for n in range(2, 7):\n",
    "    xCopy = getFirstColumnTable(x, n, coef)\n",
    "    yCopy = getFirstColumnTable(y, n, coef)\n",
    "    table = getDivededDiff(xCopy, yCopy, n)[0, :]\n",
    "    results[n - 2][0] = getNewtonPoly(table, xCopy, xMean, n)"
   ]
  },
  {
   "cell_type": "code",
   "execution_count": 80,
   "metadata": {},
   "outputs": [
    {
     "data": {
      "text/plain": [
       "[<matplotlib.lines.Line2D at 0x1de9fa1c9a0>]"
      ]
     },
     "execution_count": 80,
     "metadata": {},
     "output_type": "execute_result"
    },
    {
     "data": {
      "image/png": "[encoded data removed]",
      "text/plain": [
       "<Figure size 432x288 with 1 Axes>"
      ]
     },
     "metadata": {
      "needs_background": "light"
     },
     "output_type": "display_data"
    }
   ],
   "source": [
    "n = 8\n",
    "xGraph = np.arange(x[0], x[7], 0.01)\n",
    "yGraph = np.zeros(xGraph.size)\n",
    "for i in range(xGraph.size):\n",
    "    table = getDivededDiff(x, y, n)[0, :]\n",
    "    yGraph[i] = getNewtonPoly(table, x, xGraph[i], n)\n",
    "plt.plot(xGraph, yGraph)\n",
    "plt.plot(x, y, 'bo')"
   ]
  },
  {
   "cell_type": "code",
   "execution_count": 81,
   "metadata": {},
   "outputs": [],
   "source": [
    "def makeThirdColumnTable(x, y, yDer, n):\n",
    "    table = np.zeros([2 * n, 2 * n + 1])\n",
    "    for i in range(n):\n",
    "        table[2 * i][0] = x[i]\n",
    "        table[2 * i + 1][0] = x[i]\n",
    "        table[2 * i][1] = y[i]\n",
    "        table[2 * i + 1][1] = y[i]\n",
    "        table[2 * i][2] = yDer[i]\n",
    "        table[2 * i + 1][2] = (y[i] - y[i + 1]) / (x[i] - x[i + 1])\n",
    "    return table"
   ]
  },
  {
   "cell_type": "code",
   "execution_count": 82,
   "metadata": {},
   "outputs": [],
   "source": [
    "def makeTable(table, n, x):\n",
    "    for j in range(3, n):\n",
    "        for i in range(n - j):\n",
    "            table[i][j] = (table[i][j - 1] - table[i + 1][j - 1]) / (table[i][0] - table[i + 2][0])\n",
    "    data = pd.DataFrame(data=table)\n",
    "    return table"
   ]
  },
  {
   "cell_type": "code",
   "execution_count": 83,
   "metadata": {},
   "outputs": [],
   "source": [
    "def getHermPoly(table, x, xMean, n):\n",
    "    yx = table[1]\n",
    "    p = xMean - x[0]\n",
    "    for i in range(1, n):\n",
    "        yx += table[i + 1] * p\n",
    "        p *= xMean - x[i // 2]\n",
    "    return yx"
   ]
  },
  {
   "cell_type": "code",
   "execution_count": 84,
   "metadata": {},
   "outputs": [
    {
     "name": "stdout",
     "output_type": "stream",
     "text": [
      "0.34282424999999994\n",
      "0.34050618749999995\n",
      "0.3406127499999999\n"
     ]
    }
   ],
   "source": [
    "coef = getNearCoef(x, xMean)\n",
    "for n in range(1, 4):\n",
    "    nHerm = 2 * n\n",
    "    coef = getNearCoef(x, xMean)\n",
    "    xCopy = getFirstColumnTable(x, n + 1, coef)\n",
    "    yCopy = getFirstColumnTable(y, n + 1, coef)\n",
    "    yDerCopy = getFirstColumnTable(yDer, n, coef - 1)\n",
    "    table = makeThirdColumnTable(xCopy, yCopy, yDerCopy, n)\n",
    "    table = makeTable(table, nHerm + 1, xCopy)[0, :]\n",
    "    results[n][1] = getHermPoly(table, xCopy, xMean, nHerm)\n",
    "    print(results[n][1])\n"
   ]
  },
  {
   "cell_type": "code",
   "execution_count": 85,
   "metadata": {},
   "outputs": [
    {
     "data": {
      "text/plain": [
       "[<matplotlib.lines.Line2D at 0x1de9fa90430>]"
      ]
     },
     "execution_count": 85,
     "metadata": {},
     "output_type": "execute_result"
    },
    {
     "data": {
      "image/png": "[encoded data removed]",
      "text/plain": [
       "<Figure size 432x288 with 1 Axes>"
      ]
     },
     "metadata": {
      "needs_background": "light"
     },
     "output_type": "display_data"
    }
   ],
   "source": [
    "n = 4\n",
    "xGraph = np.arange(x[0], x[7], 0.01)\n",
    "yGraph = np.zeros(xGraph.size)\n",
    "for i in range(xGraph.size):\n",
    "    table = makeThirdColumnTable(x, y, yDer, n)\n",
    "    table = makeTable(table, nHerm + 1, xCopy)[0, :]\n",
    "    yGraph[i] = getHermPoly(table, x, xGraph[i], n)\n",
    "plt.plot(xGraph, yGraph)\n",
    "plt.plot(x, y, 'bo')"
   ]
  },
  {
   "cell_type": "code",
   "execution_count": 86,
   "metadata": {},
   "outputs": [
    {
     "name": "stdout",
     "output_type": "stream",
     "text": [
      "0.7390848337168541\n"
     ]
    }
   ],
   "source": [
    "n = 8 \n",
    "coef = getDivededDiff(y, x, n)[0, :]\n",
    "yData = getNewtonPoly(coef, y, 0, n)\n",
    "print(yData)"
   ]
  },
  {
   "cell_type": "code",
   "execution_count": 87,
   "metadata": {},
   "outputs": [
    {
     "name": "stdout",
     "output_type": "stream",
     "text": [
      "     Ньютон     Эрмит\n",
      "0  0.337891  0.000000\n",
      "1  0.340208  0.342824\n",
      "2  0.340314  0.340506\n",
      "3  0.340324  0.340613\n",
      "4  0.340324  0.000000\n"
     ]
    }
   ],
   "source": [
    "table = pd.DataFrame(data=results, columns=[\"Ньютон\", \"Эрмит\"])\n",
    "print(table)"
   ]
  }
 ],
 "metadata": {
  "interpreter": {
   "hash": "5a100df00556609cf56f31f321bb2627ec61d5dc2da090d983a892c72220caf5"
  },
  "kernelspec": {
   "display_name": "Python 3.8.8 ('base')",
   "language": "python",
   "name": "python3"
  },
  "language_info": {
   "codemirror_mode": {
    "name": "ipython",
    "version": 3
   },
   "file_extension": ".py",
   "mimetype": "text/x-python",
   "name": "python",
   "nbconvert_exporter": "python",
   "pygments_lexer": "ipython3",
   "version": "3.9.7"
  },
  "orig_nbformat": 4
 },
 "nbformat": 4,
 "nbformat_minor": 2
}
